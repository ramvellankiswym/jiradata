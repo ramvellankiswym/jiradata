{
 "cells": [
  {
   "cell_type": "markdown",
   "id": "4850fbb2",
   "metadata": {},
   "source": [
    "## Get Jira Data"
   ]
  },
  {
   "cell_type": "code",
   "execution_count": 22,
   "id": "b29927a8",
   "metadata": {},
   "outputs": [
    {
     "name": "stdout",
     "output_type": "stream",
     "text": [
      "file deleted\n"
     ]
    }
   ],
   "source": [
    "from jira import JIRA, JIRAError\n",
    "from collections import Counter, defaultdict\n",
    "from datetime import datetime\n",
    "from time import sleep\n",
    "\n",
    "import numpy as np\n",
    "import pandas as pd\n",
    "import networkx as nx\n",
    "import plotly.express as px\n",
    "\n",
    "import os\n",
    "\n",
    "url = \"https://swymcorp.atlassian.net\"\n",
    "email = \"ram.vellanki@swymcorp.com\"\n",
    "authtoken = \"ENTER JIRA API TOKEN HERE\"\n",
    "filename = 'data_jira.csv'\n",
    "jira = JIRA(options={'server': url}, basic_auth=(email, authtoken))\n",
    "\n",
    "try:\n",
    "    jql = \"project=LE AND 'Category[Dropdown]' not in ('v3 Migration', 'Import')AND created >= '-365d'\"\n",
    "    #search issues\n",
    "    block_size=100\n",
    "    block_num=0\n",
    "    jira_search = jira.search_issues(jql, startAt=block_num*block_size, maxResults=block_size,\n",
    "                                    fields=\"issuetype, priority, resolution, created, customfield_10079, customfield_10055, customfield_10048, customfield_10045, customfield_10078, customfield_10046, customfield_10049, resolutiondate, reporter, assignee, status\")\n",
    "\n",
    "    if os.path.exists(filename):\n",
    "        os.remove(filename)\n",
    "        print(\"file deleted\")\n",
    "    else:\n",
    "        print(\"file doesn't exists so will be created\")\n",
    "\n",
    "    \n",
    "    #define parameters for writing data\n",
    "    index_beg = 0\n",
    "    header = True\n",
    "    mode = 'w'\n",
    "    while bool(jira_search):\n",
    "        data_jira = []\n",
    "        \n",
    "        for issue in jira_search:\n",
    "            issue_key = issue.key\n",
    "            request_type = str(issue.fields.issuetype)\n",
    "            \n",
    "            datetime_creation = issue.fields.created\n",
    "            if datetime_creation is not None:\n",
    "                datetime_creation = datetime.strptime(datetime_creation[:19], \"%Y-%m-%dT%H:%M:%S\")\n",
    "            \n",
    "            datetime_resolution = issue.fields.resolutiondate\n",
    "            if datetime_resolution is not None:\n",
    "                datetime_resolution = datetime.strptime(datetime_resolution[:19], \"%Y-%m-%dT%H:%M:%S\")\n",
    "            \n",
    "            reporter_login = None\n",
    "            reporter_name = None\n",
    "            reporter = issue.raw['fields'].get('reporter', None)\n",
    "            if reporter is not None:\n",
    "                reporter_login = reporter.get('key', None)\n",
    "                reporter_name = reporter.get('displayName', None)\n",
    "            \n",
    "            assignee_login = None\n",
    "            assignee_name = None\n",
    "            assignee = issue.raw['fields'].get('assignee', None)\n",
    "            if assignee is not None:\n",
    "                assignee_login = assignee.get('key', None)\n",
    "                assignee_name = assignee.get('displayName', None)\n",
    "                \n",
    "            status = None\n",
    "            st = issue.fields.status\n",
    "            if st is not None:\n",
    "                status = st.name\n",
    "                \n",
    "            priority = None\n",
    "            pty = issue.fields.priority if hasattr(issue.fields, \"priority\") else None\n",
    "            if pty is not None:\n",
    "                priority = pty\n",
    "            \n",
    "            resolution = None\n",
    "            resn = issue.fields.resolution if hasattr(issue.fields, \"resolution\") else \"NA\"\n",
    "            if resn is not None:\n",
    "                resolution = resn\n",
    "            else:\n",
    "                resolution = \"NA\"\n",
    "             \n",
    "            platformplan = None\n",
    "            pp = issue.fields.customfield_10048 if hasattr(issue.fields, \"customfield_10048\") else \"NA\"\n",
    "            if pp is not None:\n",
    "                platformplan = pp.value\n",
    "            else:\n",
    "                platformplan = \"NA\"\n",
    "\n",
    "            \n",
    "            swymplan = None\n",
    "            sp = issue.fields.customfield_10049 if hasattr(issue.fields, \"customfield_10049\") else \"NA\"\n",
    "            if sp is not None:\n",
    "                swymplan = sp.value\n",
    "            else:\n",
    "                swymplan = \"NA\"\n",
    "            \n",
    "            shopurl = None\n",
    "            surl = issue.fields.customfield_10045 if hasattr(issue.fields, \"customfield_10045\") else \"NA\"\n",
    "            if surl is not None:\n",
    "                shopurl = surl\n",
    "            else:\n",
    "                shopurl = \"NA\"\n",
    "            \n",
    "            platform = None\n",
    "            pform = issue.fields.customfield_10046 if hasattr(issue.fields, \"customfield_10046\") else \"NA\"\n",
    "            if pform is not None:\n",
    "                platform = pform\n",
    "            else:\n",
    "                platform = \"NA\"\n",
    "            \n",
    "            teamname = None\n",
    "            tname = issue.fields.customfield_10078 if hasattr(issue.fields, \"customfield_10078\") else \"Unassigned\"\n",
    "            if tname is not None:\n",
    "                teamname = tname.value\n",
    "            else:\n",
    "                teamname = \"Unassigned\"\n",
    "            \n",
    "            category = None\n",
    "            cat = issue.fields.customfield_10055 if hasattr(issue.fields, \"customfield_10055\") else \"NA\"\n",
    "            if cat is not None:\n",
    "                category = cat.value\n",
    "            else:\n",
    "                category = \"NA\"\n",
    "                \n",
    "            #customfield_10079\n",
    "            rca = None\n",
    "            rcause = issue.fields.customfield_10079 if hasattr(issue.fields, \"customfield_10079\") else \"TBD\"\n",
    "            if rcause is not None:\n",
    "                rca = rcause.value\n",
    "            else:\n",
    "                rca = \"TBD\"\n",
    "                \n",
    "            data_jira.append((issue_key, priority, resolution, category, rca, teamname, platformplan, swymplan, shopurl, platform, \n",
    "                              request_type, datetime_creation, datetime_resolution, reporter_login, reporter_name, \n",
    "                              assignee_login, assignee_name, status))\n",
    "            \n",
    "        index_end = index_beg + len(data_jira)\n",
    "        data_jira = pd.DataFrame(data_jira, index=range(index_beg, index_end),\n",
    "                                columns = ['Issue Key', 'Priority', 'Resolution','Category', 'Root Cause', 'TeamName', 'Platform Plan','Swym Plan',\n",
    "                                           'ShopURL','Platform','Request Type', 'Datetime creation', \n",
    "                                           'Datetime Resolution', 'Reporter Login', 'Reporter Name', \n",
    "                                           'Assignee Login', 'Assignee Name', 'Status'])\n",
    "        \n",
    "        data_jira.to_csv(path_or_buf=filename, sep=',', header=header, index=True, index_label = 'N', mode=mode)\n",
    "    \n",
    "        block_num = block_num + 1\n",
    "        index_beg = index_end\n",
    "        header = False\n",
    "        mode = 'a'\n",
    "\n",
    "        #print issues read\n",
    "        if block_num % 50 == 0:\n",
    "            print(block_num * block_size)\n",
    "\n",
    "        sleep(1) #reduce load on system\n",
    "        \n",
    "        jira_search = jira.search_issues(jql, startAt=block_num*block_size, maxResults=block_size,\n",
    "                                    fields=\"issuetype, priority, resolution, created, customfield_10079, customfield_10055, customfield_10048, customfield_10045, customfield_10078, customfield_10046, customfield_10049, resolutiondate, reporter, assignee, status\")\n",
    "        \n",
    "    jira.close()\n",
    "\n",
    "except JIRAError as e:\n",
    "    jira.close()\n",
    "    print('Error', e)\n",
    "except AttributeError as x:\n",
    "    print(x)\n"
   ]
  },
  {
   "cell_type": "markdown",
   "id": "9803b43c",
   "metadata": {},
   "source": [
    "## Weekly Data"
   ]
  },
  {
   "cell_type": "code",
   "execution_count": 23,
   "id": "212c5d1d",
   "metadata": {},
   "outputs": [
    {
     "data": {
      "text/plain": [
       "824"
      ]
     },
     "execution_count": 23,
     "metadata": {},
     "output_type": "execute_result"
    }
   ],
   "source": [
    "# Load Data\n",
    "import pandas as pd\n",
    "datadf = pd.read_csv(filename, sep=',', header =0, encoding='utf_8_sig')\n",
    "# Set week parameters\n",
    "weekstartdt = \"2022-02-21\"\n",
    "weekenddt = \"2022-02-27\"\n",
    "#total rows\n",
    "len(datadf)"
   ]
  },
  {
   "cell_type": "code",
   "execution_count": 34,
   "id": "4e8728c4",
   "metadata": {},
   "outputs": [
    {
     "data": {
      "text/html": [
       "<div>\n",
       "<style scoped>\n",
       "    .dataframe tbody tr th:only-of-type {\n",
       "        vertical-align: middle;\n",
       "    }\n",
       "\n",
       "    .dataframe tbody tr th {\n",
       "        vertical-align: top;\n",
       "    }\n",
       "\n",
       "    .dataframe thead th {\n",
       "        text-align: right;\n",
       "    }\n",
       "</style>\n",
       "<table border=\"1\" class=\"dataframe\">\n",
       "  <thead>\n",
       "    <tr style=\"text-align: right;\">\n",
       "      <th></th>\n",
       "      <th>N</th>\n",
       "      <th>Issue Key</th>\n",
       "      <th>Priority</th>\n",
       "      <th>Resolution</th>\n",
       "      <th>Category</th>\n",
       "      <th>Root Cause</th>\n",
       "      <th>TeamName</th>\n",
       "      <th>Platform Plan</th>\n",
       "      <th>Swym Plan</th>\n",
       "      <th>ShopURL</th>\n",
       "      <th>...</th>\n",
       "      <th>Datetime creation</th>\n",
       "      <th>Datetime Resolution</th>\n",
       "      <th>Reporter Login</th>\n",
       "      <th>Reporter Name</th>\n",
       "      <th>Assignee Login</th>\n",
       "      <th>Assignee Name</th>\n",
       "      <th>Status</th>\n",
       "      <th>CreateDate</th>\n",
       "      <th>ResolvedDate</th>\n",
       "      <th>CreateDateM</th>\n",
       "    </tr>\n",
       "  </thead>\n",
       "  <tbody>\n",
       "    <tr>\n",
       "      <th>4</th>\n",
       "      <td>4</td>\n",
       "      <td>LE-1525</td>\n",
       "      <td>Highest</td>\n",
       "      <td>NaN</td>\n",
       "      <td>Problem/Bug</td>\n",
       "      <td>TBD</td>\n",
       "      <td>Unassigned</td>\n",
       "      <td>Shopify Plus</td>\n",
       "      <td>Enterprise</td>\n",
       "      <td>mv-row.myshopify.com</td>\n",
       "      <td>...</td>\n",
       "      <td>2022-02-25 10:33:23</td>\n",
       "      <td>NaN</td>\n",
       "      <td>NaN</td>\n",
       "      <td>Gopinath Nagalingam</td>\n",
       "      <td>NaN</td>\n",
       "      <td>Nilarjun Das</td>\n",
       "      <td>Waiting On Customer</td>\n",
       "      <td>2022-02-25</td>\n",
       "      <td>NaT</td>\n",
       "      <td>2022-02-01</td>\n",
       "    </tr>\n",
       "    <tr>\n",
       "      <th>5</th>\n",
       "      <td>5</td>\n",
       "      <td>LE-1524</td>\n",
       "      <td>Medium</td>\n",
       "      <td>NaN</td>\n",
       "      <td>Customization</td>\n",
       "      <td>TBD</td>\n",
       "      <td>Apps</td>\n",
       "      <td>Shopify Professional</td>\n",
       "      <td>Starter</td>\n",
       "      <td>maison-mayle-store.myshopify.com</td>\n",
       "      <td>...</td>\n",
       "      <td>2022-02-25 02:59:07</td>\n",
       "      <td>NaN</td>\n",
       "      <td>NaN</td>\n",
       "      <td>Anshu Bhardwaj</td>\n",
       "      <td>NaN</td>\n",
       "      <td>Nilarjun Das</td>\n",
       "      <td>Open</td>\n",
       "      <td>2022-02-25</td>\n",
       "      <td>NaT</td>\n",
       "      <td>2022-02-01</td>\n",
       "    </tr>\n",
       "    <tr>\n",
       "      <th>6</th>\n",
       "      <td>6</td>\n",
       "      <td>LE-1523</td>\n",
       "      <td>Medium</td>\n",
       "      <td>NaN</td>\n",
       "      <td>Problem/Bug</td>\n",
       "      <td>TBD</td>\n",
       "      <td>Platform</td>\n",
       "      <td>Shopify Professional</td>\n",
       "      <td>Starter</td>\n",
       "      <td>marigoldshadows.myshopify.com</td>\n",
       "      <td>...</td>\n",
       "      <td>2022-02-25 02:37:11</td>\n",
       "      <td>NaN</td>\n",
       "      <td>NaN</td>\n",
       "      <td>Gopinath Nagalingam</td>\n",
       "      <td>NaN</td>\n",
       "      <td>Sanjay</td>\n",
       "      <td>Open</td>\n",
       "      <td>2022-02-25</td>\n",
       "      <td>NaT</td>\n",
       "      <td>2022-02-01</td>\n",
       "    </tr>\n",
       "    <tr>\n",
       "      <th>7</th>\n",
       "      <td>7</td>\n",
       "      <td>LE-1522</td>\n",
       "      <td>Medium</td>\n",
       "      <td>NaN</td>\n",
       "      <td>Question</td>\n",
       "      <td>TBD</td>\n",
       "      <td>Apps</td>\n",
       "      <td>Shopify Plus</td>\n",
       "      <td>Premium</td>\n",
       "      <td>naturisimo-store.myshopify.com</td>\n",
       "      <td>...</td>\n",
       "      <td>2022-02-25 02:06:54</td>\n",
       "      <td>NaN</td>\n",
       "      <td>NaN</td>\n",
       "      <td>Anshu Bhardwaj</td>\n",
       "      <td>NaN</td>\n",
       "      <td>Ranga Prakash</td>\n",
       "      <td>Open</td>\n",
       "      <td>2022-02-25</td>\n",
       "      <td>NaT</td>\n",
       "      <td>2022-02-01</td>\n",
       "    </tr>\n",
       "    <tr>\n",
       "      <th>8</th>\n",
       "      <td>8</td>\n",
       "      <td>LE-1521</td>\n",
       "      <td>Medium</td>\n",
       "      <td>NaN</td>\n",
       "      <td>Problem/Bug</td>\n",
       "      <td>Testing Miss</td>\n",
       "      <td>Platform</td>\n",
       "      <td>Shopify Plus</td>\n",
       "      <td>Premium</td>\n",
       "      <td>stfrock-dev.myshopify.com</td>\n",
       "      <td>...</td>\n",
       "      <td>2022-02-24 23:55:40</td>\n",
       "      <td>NaN</td>\n",
       "      <td>NaN</td>\n",
       "      <td>Anshu Bhardwaj</td>\n",
       "      <td>NaN</td>\n",
       "      <td>Sanjay</td>\n",
       "      <td>Waiting On Customer</td>\n",
       "      <td>2022-02-24</td>\n",
       "      <td>NaT</td>\n",
       "      <td>2022-02-01</td>\n",
       "    </tr>\n",
       "  </tbody>\n",
       "</table>\n",
       "<p>5 rows × 22 columns</p>\n",
       "</div>"
      ],
      "text/plain": [
       "   N Issue Key Priority Resolution       Category    Root Cause    TeamName  \\\n",
       "4  4   LE-1525  Highest        NaN    Problem/Bug           TBD  Unassigned   \n",
       "5  5   LE-1524   Medium        NaN  Customization           TBD        Apps   \n",
       "6  6   LE-1523   Medium        NaN    Problem/Bug           TBD    Platform   \n",
       "7  7   LE-1522   Medium        NaN       Question           TBD        Apps   \n",
       "8  8   LE-1521   Medium        NaN    Problem/Bug  Testing Miss    Platform   \n",
       "\n",
       "          Platform Plan   Swym Plan                           ShopURL  ...  \\\n",
       "4          Shopify Plus  Enterprise              mv-row.myshopify.com  ...   \n",
       "5  Shopify Professional     Starter  maison-mayle-store.myshopify.com  ...   \n",
       "6  Shopify Professional     Starter     marigoldshadows.myshopify.com  ...   \n",
       "7          Shopify Plus     Premium    naturisimo-store.myshopify.com  ...   \n",
       "8          Shopify Plus     Premium         stfrock-dev.myshopify.com  ...   \n",
       "\n",
       "     Datetime creation Datetime Resolution Reporter Login  \\\n",
       "4  2022-02-25 10:33:23                 NaN            NaN   \n",
       "5  2022-02-25 02:59:07                 NaN            NaN   \n",
       "6  2022-02-25 02:37:11                 NaN            NaN   \n",
       "7  2022-02-25 02:06:54                 NaN            NaN   \n",
       "8  2022-02-24 23:55:40                 NaN            NaN   \n",
       "\n",
       "         Reporter Name  Assignee Login  Assignee Name               Status  \\\n",
       "4  Gopinath Nagalingam             NaN   Nilarjun Das  Waiting On Customer   \n",
       "5       Anshu Bhardwaj             NaN   Nilarjun Das                 Open   \n",
       "6  Gopinath Nagalingam             NaN         Sanjay                 Open   \n",
       "7       Anshu Bhardwaj             NaN  Ranga Prakash                 Open   \n",
       "8       Anshu Bhardwaj             NaN         Sanjay  Waiting On Customer   \n",
       "\n",
       "  CreateDate ResolvedDate CreateDateM  \n",
       "4 2022-02-25          NaT  2022-02-01  \n",
       "5 2022-02-25          NaT  2022-02-01  \n",
       "6 2022-02-25          NaT  2022-02-01  \n",
       "7 2022-02-25          NaT  2022-02-01  \n",
       "8 2022-02-24          NaT  2022-02-01  \n",
       "\n",
       "[5 rows x 22 columns]"
      ]
     },
     "execution_count": 34,
     "metadata": {},
     "output_type": "execute_result"
    }
   ],
   "source": [
    "from datetime import datetime as dt\n",
    "datadf['CreateDateM'] = datadf['Datetime creation'].astype('datetime64[M]')\n",
    "\n",
    "datadf['CreateDate'] = datadf['Datetime creation'].astype('datetime64[D]')\n",
    "datadf['ResolvedDate'] = datadf['Datetime Resolution'].astype('datetime64[D]')\n",
    "\n",
    "after_start_date = datadf[\"CreateDate\"] >= dt.strptime(weekstartdt, \"%Y-%m-%d\")\n",
    "before_end_date = datadf[\"CreateDate\"] < dt.strptime(weekenddt, \"%Y-%m-%d\") \n",
    "\n",
    "between_two_dates = after_start_date & before_end_date\n",
    "\n",
    "res_after_start_date = datadf[\"ResolvedDate\"] >= dt.strptime(weekstartdt, \"%Y-%m-%d\")\n",
    "res_before_end_date = datadf[\"ResolvedDate\"] < dt.strptime(weekenddt, \"%Y-%m-%d\") \n",
    "res_between_two_dates = res_after_start_date & res_before_end_date\n",
    "\n",
    "\n",
    "lastweekdfcreated = datadf.loc[between_two_dates]\n",
    "lastweekdfresolved = datadf.loc[res_between_two_dates]\n",
    "\n",
    "lastweekdf.head(5)"
   ]
  },
  {
   "cell_type": "markdown",
   "id": "8dbc4581",
   "metadata": {},
   "source": [
    "## Weekly Reports"
   ]
  },
  {
   "cell_type": "markdown",
   "id": "5874f48b",
   "metadata": {},
   "source": [
    "### Inflow Trend"
   ]
  },
  {
   "cell_type": "code",
   "execution_count": 32,
   "id": "9427b60a",
   "metadata": {},
   "outputs": [
    {
     "data": {
      "application/vnd.plotly.v1+json": {
       "config": {
        "plotlyServerURL": "https://plot.ly"
       },
       "data": [
        {
         "hovertemplate": "Platform=BigCommerce<br>CreateDateM=%{x}<br>Count=%{y}<extra></extra>",
         "legendgroup": "BigCommerce",
         "line": {
          "color": "#636efa",
          "dash": "solid"
         },
         "marker": {
          "symbol": "circle"
         },
         "mode": "lines",
         "name": "BigCommerce",
         "orientation": "v",
         "showlegend": true,
         "textposition": "bottom right",
         "type": "scatter",
         "x": [
          "2021-06-01T00:00:00",
          "2021-07-01T00:00:00",
          "2021-08-01T00:00:00",
          "2021-09-01T00:00:00",
          "2021-10-01T00:00:00",
          "2021-11-01T00:00:00",
          "2021-12-01T00:00:00",
          "2022-01-01T00:00:00",
          "2022-02-01T00:00:00"
         ],
         "xaxis": "x",
         "y": [
          5,
          10,
          10,
          3,
          6,
          15,
          4,
          2,
          3
         ],
         "yaxis": "y"
        },
        {
         "hovertemplate": "Platform=Shopify<br>CreateDateM=%{x}<br>Count=%{y}<extra></extra>",
         "legendgroup": "Shopify",
         "line": {
          "color": "#EF553B",
          "dash": "solid"
         },
         "marker": {
          "symbol": "circle"
         },
         "mode": "lines",
         "name": "Shopify",
         "orientation": "v",
         "showlegend": true,
         "textposition": "bottom right",
         "type": "scatter",
         "x": [
          "2021-06-01T00:00:00",
          "2021-07-01T00:00:00",
          "2021-08-01T00:00:00",
          "2021-09-01T00:00:00",
          "2021-10-01T00:00:00",
          "2021-11-01T00:00:00",
          "2021-12-01T00:00:00",
          "2022-01-01T00:00:00",
          "2022-02-01T00:00:00"
         ],
         "xaxis": "x",
         "y": [
          19,
          76,
          101,
          121,
          92,
          134,
          76,
          68,
          76
         ],
         "yaxis": "y"
        },
        {
         "hovertemplate": "Platform=Others<br>CreateDateM=%{x}<br>Count=%{y}<extra></extra>",
         "legendgroup": "Others",
         "line": {
          "color": "#00cc96",
          "dash": "solid"
         },
         "marker": {
          "symbol": "circle"
         },
         "mode": "lines",
         "name": "Others",
         "orientation": "v",
         "showlegend": true,
         "textposition": "bottom right",
         "type": "scatter",
         "x": [
          "2021-07-01T00:00:00",
          "2021-11-01T00:00:00"
         ],
         "xaxis": "x",
         "y": [
          1,
          1
         ],
         "yaxis": "y"
        },
        {
         "hovertemplate": "Platform=NA<br>CreateDateM=%{x}<br>Count=%{y}<extra></extra>",
         "legendgroup": "NA",
         "line": {
          "color": "#ab63fa",
          "dash": "solid"
         },
         "marker": {
          "symbol": "circle"
         },
         "mode": "lines",
         "name": "NA",
         "orientation": "v",
         "showlegend": true,
         "textposition": "bottom right",
         "type": "scatter",
         "x": [
          "2022-03-01T00:00:00"
         ],
         "xaxis": "x",
         "y": [
          1
         ],
         "yaxis": "y"
        }
       ],
       "layout": {
        "autosize": false,
        "font": {
         "color": "White",
         "size": 12
        },
        "height": 500,
        "legend": {
         "title": {
          "text": "Platform"
         },
         "tracegroupgap": 0
        },
        "margin": {
         "b": 100,
         "l": 50,
         "pad": 4,
         "r": 50,
         "t": 100
        },
        "paper_bgcolor": "Black",
        "plot_bgcolor": "Black",
        "template": {
         "data": {
          "bar": [
           {
            "error_x": {
             "color": "#2a3f5f"
            },
            "error_y": {
             "color": "#2a3f5f"
            },
            "marker": {
             "line": {
              "color": "#E5ECF6",
              "width": 0.5
             },
             "pattern": {
              "fillmode": "overlay",
              "size": 10,
              "solidity": 0.2
             }
            },
            "type": "bar"
           }
          ],
          "barpolar": [
           {
            "marker": {
             "line": {
              "color": "#E5ECF6",
              "width": 0.5
             },
             "pattern": {
              "fillmode": "overlay",
              "size": 10,
              "solidity": 0.2
             }
            },
            "type": "barpolar"
           }
          ],
          "carpet": [
           {
            "aaxis": {
             "endlinecolor": "#2a3f5f",
             "gridcolor": "white",
             "linecolor": "white",
             "minorgridcolor": "white",
             "startlinecolor": "#2a3f5f"
            },
            "baxis": {
             "endlinecolor": "#2a3f5f",
             "gridcolor": "white",
             "linecolor": "white",
             "minorgridcolor": "white",
             "startlinecolor": "#2a3f5f"
            },
            "type": "carpet"
           }
          ],
          "choropleth": [
           {
            "colorbar": {
             "outlinewidth": 0,
             "ticks": ""
            },
            "type": "choropleth"
           }
          ],
          "contour": [
           {
            "colorbar": {
             "outlinewidth": 0,
             "ticks": ""
            },
            "colorscale": [
             [
              0,
              "#0d0887"
             ],
             [
              0.1111111111111111,
              "#46039f"
             ],
             [
              0.2222222222222222,
              "#7201a8"
             ],
             [
              0.3333333333333333,
              "#9c179e"
             ],
             [
              0.4444444444444444,
              "#bd3786"
             ],
             [
              0.5555555555555556,
              "#d8576b"
             ],
             [
              0.6666666666666666,
              "#ed7953"
             ],
             [
              0.7777777777777778,
              "#fb9f3a"
             ],
             [
              0.8888888888888888,
              "#fdca26"
             ],
             [
              1,
              "#f0f921"
             ]
            ],
            "type": "contour"
           }
          ],
          "contourcarpet": [
           {
            "colorbar": {
             "outlinewidth": 0,
             "ticks": ""
            },
            "type": "contourcarpet"
           }
          ],
          "heatmap": [
           {
            "colorbar": {
             "outlinewidth": 0,
             "ticks": ""
            },
            "colorscale": [
             [
              0,
              "#0d0887"
             ],
             [
              0.1111111111111111,
              "#46039f"
             ],
             [
              0.2222222222222222,
              "#7201a8"
             ],
             [
              0.3333333333333333,
              "#9c179e"
             ],
             [
              0.4444444444444444,
              "#bd3786"
             ],
             [
              0.5555555555555556,
              "#d8576b"
             ],
             [
              0.6666666666666666,
              "#ed7953"
             ],
             [
              0.7777777777777778,
              "#fb9f3a"
             ],
             [
              0.8888888888888888,
              "#fdca26"
             ],
             [
              1,
              "#f0f921"
             ]
            ],
            "type": "heatmap"
           }
          ],
          "heatmapgl": [
           {
            "colorbar": {
             "outlinewidth": 0,
             "ticks": ""
            },
            "colorscale": [
             [
              0,
              "#0d0887"
             ],
             [
              0.1111111111111111,
              "#46039f"
             ],
             [
              0.2222222222222222,
              "#7201a8"
             ],
             [
              0.3333333333333333,
              "#9c179e"
             ],
             [
              0.4444444444444444,
              "#bd3786"
             ],
             [
              0.5555555555555556,
              "#d8576b"
             ],
             [
              0.6666666666666666,
              "#ed7953"
             ],
             [
              0.7777777777777778,
              "#fb9f3a"
             ],
             [
              0.8888888888888888,
              "#fdca26"
             ],
             [
              1,
              "#f0f921"
             ]
            ],
            "type": "heatmapgl"
           }
          ],
          "histogram": [
           {
            "marker": {
             "pattern": {
              "fillmode": "overlay",
              "size": 10,
              "solidity": 0.2
             }
            },
            "type": "histogram"
           }
          ],
          "histogram2d": [
           {
            "colorbar": {
             "outlinewidth": 0,
             "ticks": ""
            },
            "colorscale": [
             [
              0,
              "#0d0887"
             ],
             [
              0.1111111111111111,
              "#46039f"
             ],
             [
              0.2222222222222222,
              "#7201a8"
             ],
             [
              0.3333333333333333,
              "#9c179e"
             ],
             [
              0.4444444444444444,
              "#bd3786"
             ],
             [
              0.5555555555555556,
              "#d8576b"
             ],
             [
              0.6666666666666666,
              "#ed7953"
             ],
             [
              0.7777777777777778,
              "#fb9f3a"
             ],
             [
              0.8888888888888888,
              "#fdca26"
             ],
             [
              1,
              "#f0f921"
             ]
            ],
            "type": "histogram2d"
           }
          ],
          "histogram2dcontour": [
           {
            "colorbar": {
             "outlinewidth": 0,
             "ticks": ""
            },
            "colorscale": [
             [
              0,
              "#0d0887"
             ],
             [
              0.1111111111111111,
              "#46039f"
             ],
             [
              0.2222222222222222,
              "#7201a8"
             ],
             [
              0.3333333333333333,
              "#9c179e"
             ],
             [
              0.4444444444444444,
              "#bd3786"
             ],
             [
              0.5555555555555556,
              "#d8576b"
             ],
             [
              0.6666666666666666,
              "#ed7953"
             ],
             [
              0.7777777777777778,
              "#fb9f3a"
             ],
             [
              0.8888888888888888,
              "#fdca26"
             ],
             [
              1,
              "#f0f921"
             ]
            ],
            "type": "histogram2dcontour"
           }
          ],
          "mesh3d": [
           {
            "colorbar": {
             "outlinewidth": 0,
             "ticks": ""
            },
            "type": "mesh3d"
           }
          ],
          "parcoords": [
           {
            "line": {
             "colorbar": {
              "outlinewidth": 0,
              "ticks": ""
             }
            },
            "type": "parcoords"
           }
          ],
          "pie": [
           {
            "automargin": true,
            "type": "pie"
           }
          ],
          "scatter": [
           {
            "marker": {
             "colorbar": {
              "outlinewidth": 0,
              "ticks": ""
             }
            },
            "type": "scatter"
           }
          ],
          "scatter3d": [
           {
            "line": {
             "colorbar": {
              "outlinewidth": 0,
              "ticks": ""
             }
            },
            "marker": {
             "colorbar": {
              "outlinewidth": 0,
              "ticks": ""
             }
            },
            "type": "scatter3d"
           }
          ],
          "scattercarpet": [
           {
            "marker": {
             "colorbar": {
              "outlinewidth": 0,
              "ticks": ""
             }
            },
            "type": "scattercarpet"
           }
          ],
          "scattergeo": [
           {
            "marker": {
             "colorbar": {
              "outlinewidth": 0,
              "ticks": ""
             }
            },
            "type": "scattergeo"
           }
          ],
          "scattergl": [
           {
            "marker": {
             "colorbar": {
              "outlinewidth": 0,
              "ticks": ""
             }
            },
            "type": "scattergl"
           }
          ],
          "scattermapbox": [
           {
            "marker": {
             "colorbar": {
              "outlinewidth": 0,
              "ticks": ""
             }
            },
            "type": "scattermapbox"
           }
          ],
          "scatterpolar": [
           {
            "marker": {
             "colorbar": {
              "outlinewidth": 0,
              "ticks": ""
             }
            },
            "type": "scatterpolar"
           }
          ],
          "scatterpolargl": [
           {
            "marker": {
             "colorbar": {
              "outlinewidth": 0,
              "ticks": ""
             }
            },
            "type": "scatterpolargl"
           }
          ],
          "scatterternary": [
           {
            "marker": {
             "colorbar": {
              "outlinewidth": 0,
              "ticks": ""
             }
            },
            "type": "scatterternary"
           }
          ],
          "surface": [
           {
            "colorbar": {
             "outlinewidth": 0,
             "ticks": ""
            },
            "colorscale": [
             [
              0,
              "#0d0887"
             ],
             [
              0.1111111111111111,
              "#46039f"
             ],
             [
              0.2222222222222222,
              "#7201a8"
             ],
             [
              0.3333333333333333,
              "#9c179e"
             ],
             [
              0.4444444444444444,
              "#bd3786"
             ],
             [
              0.5555555555555556,
              "#d8576b"
             ],
             [
              0.6666666666666666,
              "#ed7953"
             ],
             [
              0.7777777777777778,
              "#fb9f3a"
             ],
             [
              0.8888888888888888,
              "#fdca26"
             ],
             [
              1,
              "#f0f921"
             ]
            ],
            "type": "surface"
           }
          ],
          "table": [
           {
            "cells": {
             "fill": {
              "color": "#EBF0F8"
             },
             "line": {
              "color": "white"
             }
            },
            "header": {
             "fill": {
              "color": "#C8D4E3"
             },
             "line": {
              "color": "white"
             }
            },
            "type": "table"
           }
          ]
         },
         "layout": {
          "annotationdefaults": {
           "arrowcolor": "#2a3f5f",
           "arrowhead": 0,
           "arrowwidth": 1
          },
          "autotypenumbers": "strict",
          "coloraxis": {
           "colorbar": {
            "outlinewidth": 0,
            "ticks": ""
           }
          },
          "colorscale": {
           "diverging": [
            [
             0,
             "#8e0152"
            ],
            [
             0.1,
             "#c51b7d"
            ],
            [
             0.2,
             "#de77ae"
            ],
            [
             0.3,
             "#f1b6da"
            ],
            [
             0.4,
             "#fde0ef"
            ],
            [
             0.5,
             "#f7f7f7"
            ],
            [
             0.6,
             "#e6f5d0"
            ],
            [
             0.7,
             "#b8e186"
            ],
            [
             0.8,
             "#7fbc41"
            ],
            [
             0.9,
             "#4d9221"
            ],
            [
             1,
             "#276419"
            ]
           ],
           "sequential": [
            [
             0,
             "#0d0887"
            ],
            [
             0.1111111111111111,
             "#46039f"
            ],
            [
             0.2222222222222222,
             "#7201a8"
            ],
            [
             0.3333333333333333,
             "#9c179e"
            ],
            [
             0.4444444444444444,
             "#bd3786"
            ],
            [
             0.5555555555555556,
             "#d8576b"
            ],
            [
             0.6666666666666666,
             "#ed7953"
            ],
            [
             0.7777777777777778,
             "#fb9f3a"
            ],
            [
             0.8888888888888888,
             "#fdca26"
            ],
            [
             1,
             "#f0f921"
            ]
           ],
           "sequentialminus": [
            [
             0,
             "#0d0887"
            ],
            [
             0.1111111111111111,
             "#46039f"
            ],
            [
             0.2222222222222222,
             "#7201a8"
            ],
            [
             0.3333333333333333,
             "#9c179e"
            ],
            [
             0.4444444444444444,
             "#bd3786"
            ],
            [
             0.5555555555555556,
             "#d8576b"
            ],
            [
             0.6666666666666666,
             "#ed7953"
            ],
            [
             0.7777777777777778,
             "#fb9f3a"
            ],
            [
             0.8888888888888888,
             "#fdca26"
            ],
            [
             1,
             "#f0f921"
            ]
           ]
          },
          "colorway": [
           "#636efa",
           "#EF553B",
           "#00cc96",
           "#ab63fa",
           "#FFA15A",
           "#19d3f3",
           "#FF6692",
           "#B6E880",
           "#FF97FF",
           "#FECB52"
          ],
          "font": {
           "color": "#2a3f5f"
          },
          "geo": {
           "bgcolor": "white",
           "lakecolor": "white",
           "landcolor": "#E5ECF6",
           "showlakes": true,
           "showland": true,
           "subunitcolor": "white"
          },
          "hoverlabel": {
           "align": "left"
          },
          "hovermode": "closest",
          "mapbox": {
           "style": "light"
          },
          "paper_bgcolor": "white",
          "plot_bgcolor": "#E5ECF6",
          "polar": {
           "angularaxis": {
            "gridcolor": "white",
            "linecolor": "white",
            "ticks": ""
           },
           "bgcolor": "#E5ECF6",
           "radialaxis": {
            "gridcolor": "white",
            "linecolor": "white",
            "ticks": ""
           }
          },
          "scene": {
           "xaxis": {
            "backgroundcolor": "#E5ECF6",
            "gridcolor": "white",
            "gridwidth": 2,
            "linecolor": "white",
            "showbackground": true,
            "ticks": "",
            "zerolinecolor": "white"
           },
           "yaxis": {
            "backgroundcolor": "#E5ECF6",
            "gridcolor": "white",
            "gridwidth": 2,
            "linecolor": "white",
            "showbackground": true,
            "ticks": "",
            "zerolinecolor": "white"
           },
           "zaxis": {
            "backgroundcolor": "#E5ECF6",
            "gridcolor": "white",
            "gridwidth": 2,
            "linecolor": "white",
            "showbackground": true,
            "ticks": "",
            "zerolinecolor": "white"
           }
          },
          "shapedefaults": {
           "line": {
            "color": "#2a3f5f"
           }
          },
          "ternary": {
           "aaxis": {
            "gridcolor": "white",
            "linecolor": "white",
            "ticks": ""
           },
           "baxis": {
            "gridcolor": "white",
            "linecolor": "white",
            "ticks": ""
           },
           "bgcolor": "#E5ECF6",
           "caxis": {
            "gridcolor": "white",
            "linecolor": "white",
            "ticks": ""
           }
          },
          "title": {
           "x": 0.05
          },
          "xaxis": {
           "automargin": true,
           "gridcolor": "white",
           "linecolor": "white",
           "ticks": "",
           "title": {
            "standoff": 15
           },
           "zerolinecolor": "white",
           "zerolinewidth": 2
          },
          "yaxis": {
           "automargin": true,
           "gridcolor": "white",
           "linecolor": "white",
           "ticks": "",
           "title": {
            "standoff": 15
           },
           "zerolinecolor": "white",
           "zerolinewidth": 2
          }
         }
        },
        "title": {
         "text": "Inflow by Month and Platform"
        },
        "width": 500,
        "xaxis": {
         "anchor": "y",
         "domain": [
          0,
          1
         ],
         "title": {
          "text": "CreateDateM"
         }
        },
        "yaxis": {
         "anchor": "x",
         "domain": [
          0,
          1
         ],
         "title": {
          "text": "Count"
         }
        }
       }
      },
      "text/html": [
       "<div>                            <div id=\"ab5ca67d-c677-498d-8540-695892d4f374\" class=\"plotly-graph-div\" style=\"height:500px; width:500px;\"></div>            <script type=\"text/javascript\">                require([\"plotly\"], function(Plotly) {                    window.PLOTLYENV=window.PLOTLYENV || {};                                    if (document.getElementById(\"ab5ca67d-c677-498d-8540-695892d4f374\")) {                    Plotly.newPlot(                        \"ab5ca67d-c677-498d-8540-695892d4f374\",                        [{\"hovertemplate\":\"Platform=BigCommerce<br>CreateDateM=%{x}<br>Count=%{y}<extra></extra>\",\"legendgroup\":\"BigCommerce\",\"line\":{\"color\":\"#636efa\",\"dash\":\"solid\"},\"marker\":{\"symbol\":\"circle\"},\"mode\":\"lines\",\"name\":\"BigCommerce\",\"orientation\":\"v\",\"showlegend\":true,\"x\":[\"2021-06-01T00:00:00\",\"2021-07-01T00:00:00\",\"2021-08-01T00:00:00\",\"2021-09-01T00:00:00\",\"2021-10-01T00:00:00\",\"2021-11-01T00:00:00\",\"2021-12-01T00:00:00\",\"2022-01-01T00:00:00\",\"2022-02-01T00:00:00\"],\"xaxis\":\"x\",\"y\":[5,10,10,3,6,15,4,2,3],\"yaxis\":\"y\",\"type\":\"scatter\",\"textposition\":\"bottom right\"},{\"hovertemplate\":\"Platform=Shopify<br>CreateDateM=%{x}<br>Count=%{y}<extra></extra>\",\"legendgroup\":\"Shopify\",\"line\":{\"color\":\"#EF553B\",\"dash\":\"solid\"},\"marker\":{\"symbol\":\"circle\"},\"mode\":\"lines\",\"name\":\"Shopify\",\"orientation\":\"v\",\"showlegend\":true,\"x\":[\"2021-06-01T00:00:00\",\"2021-07-01T00:00:00\",\"2021-08-01T00:00:00\",\"2021-09-01T00:00:00\",\"2021-10-01T00:00:00\",\"2021-11-01T00:00:00\",\"2021-12-01T00:00:00\",\"2022-01-01T00:00:00\",\"2022-02-01T00:00:00\"],\"xaxis\":\"x\",\"y\":[19,76,101,121,92,134,76,68,76],\"yaxis\":\"y\",\"type\":\"scatter\",\"textposition\":\"bottom right\"},{\"hovertemplate\":\"Platform=Others<br>CreateDateM=%{x}<br>Count=%{y}<extra></extra>\",\"legendgroup\":\"Others\",\"line\":{\"color\":\"#00cc96\",\"dash\":\"solid\"},\"marker\":{\"symbol\":\"circle\"},\"mode\":\"lines\",\"name\":\"Others\",\"orientation\":\"v\",\"showlegend\":true,\"x\":[\"2021-07-01T00:00:00\",\"2021-11-01T00:00:00\"],\"xaxis\":\"x\",\"y\":[1,1],\"yaxis\":\"y\",\"type\":\"scatter\",\"textposition\":\"bottom right\"},{\"hovertemplate\":\"Platform=NA<br>CreateDateM=%{x}<br>Count=%{y}<extra></extra>\",\"legendgroup\":\"NA\",\"line\":{\"color\":\"#ab63fa\",\"dash\":\"solid\"},\"marker\":{\"symbol\":\"circle\"},\"mode\":\"lines\",\"name\":\"NA\",\"orientation\":\"v\",\"showlegend\":true,\"x\":[\"2022-03-01T00:00:00\"],\"xaxis\":\"x\",\"y\":[1],\"yaxis\":\"y\",\"type\":\"scatter\",\"textposition\":\"bottom right\"}],                        {\"template\":{\"data\":{\"bar\":[{\"error_x\":{\"color\":\"#2a3f5f\"},\"error_y\":{\"color\":\"#2a3f5f\"},\"marker\":{\"line\":{\"color\":\"#E5ECF6\",\"width\":0.5},\"pattern\":{\"fillmode\":\"overlay\",\"size\":10,\"solidity\":0.2}},\"type\":\"bar\"}],\"barpolar\":[{\"marker\":{\"line\":{\"color\":\"#E5ECF6\",\"width\":0.5},\"pattern\":{\"fillmode\":\"overlay\",\"size\":10,\"solidity\":0.2}},\"type\":\"barpolar\"}],\"carpet\":[{\"aaxis\":{\"endlinecolor\":\"#2a3f5f\",\"gridcolor\":\"white\",\"linecolor\":\"white\",\"minorgridcolor\":\"white\",\"startlinecolor\":\"#2a3f5f\"},\"baxis\":{\"endlinecolor\":\"#2a3f5f\",\"gridcolor\":\"white\",\"linecolor\":\"white\",\"minorgridcolor\":\"white\",\"startlinecolor\":\"#2a3f5f\"},\"type\":\"carpet\"}],\"choropleth\":[{\"colorbar\":{\"outlinewidth\":0,\"ticks\":\"\"},\"type\":\"choropleth\"}],\"contour\":[{\"colorbar\":{\"outlinewidth\":0,\"ticks\":\"\"},\"colorscale\":[[0.0,\"#0d0887\"],[0.1111111111111111,\"#46039f\"],[0.2222222222222222,\"#7201a8\"],[0.3333333333333333,\"#9c179e\"],[0.4444444444444444,\"#bd3786\"],[0.5555555555555556,\"#d8576b\"],[0.6666666666666666,\"#ed7953\"],[0.7777777777777778,\"#fb9f3a\"],[0.8888888888888888,\"#fdca26\"],[1.0,\"#f0f921\"]],\"type\":\"contour\"}],\"contourcarpet\":[{\"colorbar\":{\"outlinewidth\":0,\"ticks\":\"\"},\"type\":\"contourcarpet\"}],\"heatmap\":[{\"colorbar\":{\"outlinewidth\":0,\"ticks\":\"\"},\"colorscale\":[[0.0,\"#0d0887\"],[0.1111111111111111,\"#46039f\"],[0.2222222222222222,\"#7201a8\"],[0.3333333333333333,\"#9c179e\"],[0.4444444444444444,\"#bd3786\"],[0.5555555555555556,\"#d8576b\"],[0.6666666666666666,\"#ed7953\"],[0.7777777777777778,\"#fb9f3a\"],[0.8888888888888888,\"#fdca26\"],[1.0,\"#f0f921\"]],\"type\":\"heatmap\"}],\"heatmapgl\":[{\"colorbar\":{\"outlinewidth\":0,\"ticks\":\"\"},\"colorscale\":[[0.0,\"#0d0887\"],[0.1111111111111111,\"#46039f\"],[0.2222222222222222,\"#7201a8\"],[0.3333333333333333,\"#9c179e\"],[0.4444444444444444,\"#bd3786\"],[0.5555555555555556,\"#d8576b\"],[0.6666666666666666,\"#ed7953\"],[0.7777777777777778,\"#fb9f3a\"],[0.8888888888888888,\"#fdca26\"],[1.0,\"#f0f921\"]],\"type\":\"heatmapgl\"}],\"histogram\":[{\"marker\":{\"pattern\":{\"fillmode\":\"overlay\",\"size\":10,\"solidity\":0.2}},\"type\":\"histogram\"}],\"histogram2d\":[{\"colorbar\":{\"outlinewidth\":0,\"ticks\":\"\"},\"colorscale\":[[0.0,\"#0d0887\"],[0.1111111111111111,\"#46039f\"],[0.2222222222222222,\"#7201a8\"],[0.3333333333333333,\"#9c179e\"],[0.4444444444444444,\"#bd3786\"],[0.5555555555555556,\"#d8576b\"],[0.6666666666666666,\"#ed7953\"],[0.7777777777777778,\"#fb9f3a\"],[0.8888888888888888,\"#fdca26\"],[1.0,\"#f0f921\"]],\"type\":\"histogram2d\"}],\"histogram2dcontour\":[{\"colorbar\":{\"outlinewidth\":0,\"ticks\":\"\"},\"colorscale\":[[0.0,\"#0d0887\"],[0.1111111111111111,\"#46039f\"],[0.2222222222222222,\"#7201a8\"],[0.3333333333333333,\"#9c179e\"],[0.4444444444444444,\"#bd3786\"],[0.5555555555555556,\"#d8576b\"],[0.6666666666666666,\"#ed7953\"],[0.7777777777777778,\"#fb9f3a\"],[0.8888888888888888,\"#fdca26\"],[1.0,\"#f0f921\"]],\"type\":\"histogram2dcontour\"}],\"mesh3d\":[{\"colorbar\":{\"outlinewidth\":0,\"ticks\":\"\"},\"type\":\"mesh3d\"}],\"parcoords\":[{\"line\":{\"colorbar\":{\"outlinewidth\":0,\"ticks\":\"\"}},\"type\":\"parcoords\"}],\"pie\":[{\"automargin\":true,\"type\":\"pie\"}],\"scatter\":[{\"marker\":{\"colorbar\":{\"outlinewidth\":0,\"ticks\":\"\"}},\"type\":\"scatter\"}],\"scatter3d\":[{\"line\":{\"colorbar\":{\"outlinewidth\":0,\"ticks\":\"\"}},\"marker\":{\"colorbar\":{\"outlinewidth\":0,\"ticks\":\"\"}},\"type\":\"scatter3d\"}],\"scattercarpet\":[{\"marker\":{\"colorbar\":{\"outlinewidth\":0,\"ticks\":\"\"}},\"type\":\"scattercarpet\"}],\"scattergeo\":[{\"marker\":{\"colorbar\":{\"outlinewidth\":0,\"ticks\":\"\"}},\"type\":\"scattergeo\"}],\"scattergl\":[{\"marker\":{\"colorbar\":{\"outlinewidth\":0,\"ticks\":\"\"}},\"type\":\"scattergl\"}],\"scattermapbox\":[{\"marker\":{\"colorbar\":{\"outlinewidth\":0,\"ticks\":\"\"}},\"type\":\"scattermapbox\"}],\"scatterpolar\":[{\"marker\":{\"colorbar\":{\"outlinewidth\":0,\"ticks\":\"\"}},\"type\":\"scatterpolar\"}],\"scatterpolargl\":[{\"marker\":{\"colorbar\":{\"outlinewidth\":0,\"ticks\":\"\"}},\"type\":\"scatterpolargl\"}],\"scatterternary\":[{\"marker\":{\"colorbar\":{\"outlinewidth\":0,\"ticks\":\"\"}},\"type\":\"scatterternary\"}],\"surface\":[{\"colorbar\":{\"outlinewidth\":0,\"ticks\":\"\"},\"colorscale\":[[0.0,\"#0d0887\"],[0.1111111111111111,\"#46039f\"],[0.2222222222222222,\"#7201a8\"],[0.3333333333333333,\"#9c179e\"],[0.4444444444444444,\"#bd3786\"],[0.5555555555555556,\"#d8576b\"],[0.6666666666666666,\"#ed7953\"],[0.7777777777777778,\"#fb9f3a\"],[0.8888888888888888,\"#fdca26\"],[1.0,\"#f0f921\"]],\"type\":\"surface\"}],\"table\":[{\"cells\":{\"fill\":{\"color\":\"#EBF0F8\"},\"line\":{\"color\":\"white\"}},\"header\":{\"fill\":{\"color\":\"#C8D4E3\"},\"line\":{\"color\":\"white\"}},\"type\":\"table\"}]},\"layout\":{\"annotationdefaults\":{\"arrowcolor\":\"#2a3f5f\",\"arrowhead\":0,\"arrowwidth\":1},\"autotypenumbers\":\"strict\",\"coloraxis\":{\"colorbar\":{\"outlinewidth\":0,\"ticks\":\"\"}},\"colorscale\":{\"diverging\":[[0,\"#8e0152\"],[0.1,\"#c51b7d\"],[0.2,\"#de77ae\"],[0.3,\"#f1b6da\"],[0.4,\"#fde0ef\"],[0.5,\"#f7f7f7\"],[0.6,\"#e6f5d0\"],[0.7,\"#b8e186\"],[0.8,\"#7fbc41\"],[0.9,\"#4d9221\"],[1,\"#276419\"]],\"sequential\":[[0.0,\"#0d0887\"],[0.1111111111111111,\"#46039f\"],[0.2222222222222222,\"#7201a8\"],[0.3333333333333333,\"#9c179e\"],[0.4444444444444444,\"#bd3786\"],[0.5555555555555556,\"#d8576b\"],[0.6666666666666666,\"#ed7953\"],[0.7777777777777778,\"#fb9f3a\"],[0.8888888888888888,\"#fdca26\"],[1.0,\"#f0f921\"]],\"sequentialminus\":[[0.0,\"#0d0887\"],[0.1111111111111111,\"#46039f\"],[0.2222222222222222,\"#7201a8\"],[0.3333333333333333,\"#9c179e\"],[0.4444444444444444,\"#bd3786\"],[0.5555555555555556,\"#d8576b\"],[0.6666666666666666,\"#ed7953\"],[0.7777777777777778,\"#fb9f3a\"],[0.8888888888888888,\"#fdca26\"],[1.0,\"#f0f921\"]]},\"colorway\":[\"#636efa\",\"#EF553B\",\"#00cc96\",\"#ab63fa\",\"#FFA15A\",\"#19d3f3\",\"#FF6692\",\"#B6E880\",\"#FF97FF\",\"#FECB52\"],\"font\":{\"color\":\"#2a3f5f\"},\"geo\":{\"bgcolor\":\"white\",\"lakecolor\":\"white\",\"landcolor\":\"#E5ECF6\",\"showlakes\":true,\"showland\":true,\"subunitcolor\":\"white\"},\"hoverlabel\":{\"align\":\"left\"},\"hovermode\":\"closest\",\"mapbox\":{\"style\":\"light\"},\"paper_bgcolor\":\"white\",\"plot_bgcolor\":\"#E5ECF6\",\"polar\":{\"angularaxis\":{\"gridcolor\":\"white\",\"linecolor\":\"white\",\"ticks\":\"\"},\"bgcolor\":\"#E5ECF6\",\"radialaxis\":{\"gridcolor\":\"white\",\"linecolor\":\"white\",\"ticks\":\"\"}},\"scene\":{\"xaxis\":{\"backgroundcolor\":\"#E5ECF6\",\"gridcolor\":\"white\",\"gridwidth\":2,\"linecolor\":\"white\",\"showbackground\":true,\"ticks\":\"\",\"zerolinecolor\":\"white\"},\"yaxis\":{\"backgroundcolor\":\"#E5ECF6\",\"gridcolor\":\"white\",\"gridwidth\":2,\"linecolor\":\"white\",\"showbackground\":true,\"ticks\":\"\",\"zerolinecolor\":\"white\"},\"zaxis\":{\"backgroundcolor\":\"#E5ECF6\",\"gridcolor\":\"white\",\"gridwidth\":2,\"linecolor\":\"white\",\"showbackground\":true,\"ticks\":\"\",\"zerolinecolor\":\"white\"}},\"shapedefaults\":{\"line\":{\"color\":\"#2a3f5f\"}},\"ternary\":{\"aaxis\":{\"gridcolor\":\"white\",\"linecolor\":\"white\",\"ticks\":\"\"},\"baxis\":{\"gridcolor\":\"white\",\"linecolor\":\"white\",\"ticks\":\"\"},\"bgcolor\":\"#E5ECF6\",\"caxis\":{\"gridcolor\":\"white\",\"linecolor\":\"white\",\"ticks\":\"\"}},\"title\":{\"x\":0.05},\"xaxis\":{\"automargin\":true,\"gridcolor\":\"white\",\"linecolor\":\"white\",\"ticks\":\"\",\"title\":{\"standoff\":15},\"zerolinecolor\":\"white\",\"zerolinewidth\":2},\"yaxis\":{\"automargin\":true,\"gridcolor\":\"white\",\"linecolor\":\"white\",\"ticks\":\"\",\"title\":{\"standoff\":15},\"zerolinecolor\":\"white\",\"zerolinewidth\":2}}},\"xaxis\":{\"anchor\":\"y\",\"domain\":[0.0,1.0],\"title\":{\"text\":\"CreateDateM\"}},\"yaxis\":{\"anchor\":\"x\",\"domain\":[0.0,1.0],\"title\":{\"text\":\"Count\"}},\"legend\":{\"title\":{\"text\":\"Platform\"},\"tracegroupgap\":0},\"title\":{\"text\":\"Inflow by Month and Platform\"},\"margin\":{\"l\":50,\"r\":50,\"b\":100,\"t\":100,\"pad\":4},\"font\":{\"color\":\"White\",\"size\":12},\"autosize\":false,\"width\":500,\"height\":500,\"paper_bgcolor\":\"Black\",\"plot_bgcolor\":\"Black\"},                        {\"responsive\": true}                    ).then(function(){\n",
       "                            \n",
       "var gd = document.getElementById('ab5ca67d-c677-498d-8540-695892d4f374');\n",
       "var x = new MutationObserver(function (mutations, observer) {{\n",
       "        var display = window.getComputedStyle(gd).display;\n",
       "        if (!display || display === 'none') {{\n",
       "            console.log([gd, 'removed!']);\n",
       "            Plotly.purge(gd);\n",
       "            observer.disconnect();\n",
       "        }}\n",
       "}});\n",
       "\n",
       "// Listen for the removal of the full notebook cells\n",
       "var notebookContainer = gd.closest('#notebook-container');\n",
       "if (notebookContainer) {{\n",
       "    x.observe(notebookContainer, {childList: true});\n",
       "}}\n",
       "\n",
       "// Listen for the clearing of the current output cell\n",
       "var outputEl = gd.closest('.output');\n",
       "if (outputEl) {{\n",
       "    x.observe(outputEl, {childList: true});\n",
       "}}\n",
       "\n",
       "                        })                };                });            </script>        </div>"
      ]
     },
     "metadata": {},
     "output_type": "display_data"
    }
   ],
   "source": [
    "import plotly.express as px\n",
    "\n",
    "grp_date_platform = datadf.groupby(\n",
    "        ['CreateDateM','Platform'],\n",
    "        dropna=False\n",
    "    )['Issue Key'].count().rename('Count').reset_index(name='Count').fillna(\"NA\")\n",
    "\n",
    "fig = px.line(grp_date_platform, x=\"CreateDateM\", y=\"Count\", color=\"Platform\", title='Inflow by Month and Platform')\n",
    "fig.update_traces(textposition=\"bottom right\")\n",
    "\n",
    "fig.update_traces(textposition=\"bottom right\")\n",
    "fig.update_layout(\n",
    "    autosize=False,\n",
    "    width=500,\n",
    "    height=500,\n",
    "    margin=dict(\n",
    "        l=50,\n",
    "        r=50,\n",
    "        b=100,\n",
    "        t=100,\n",
    "        pad=4\n",
    "    ),\n",
    "    paper_bgcolor=\"Black\",\n",
    "    plot_bgcolor=\"Black\",\n",
    "    font=dict(\n",
    "                color=\"White\",\n",
    "                size=12\n",
    "    ),\n",
    ")\n",
    "\n",
    "fig.show()"
   ]
  },
  {
   "cell_type": "markdown",
   "id": "2a70eec3",
   "metadata": {},
   "source": [
    "### Created vs Resolved"
   ]
  },
  {
   "cell_type": "code",
   "execution_count": 36,
   "id": "449dd722",
   "metadata": {},
   "outputs": [
    {
     "name": "stdout",
     "output_type": "stream",
     "text": [
      "Created:  14\n",
      "Resolved:  21\n"
     ]
    }
   ],
   "source": [
    "print(\"Created: \", len(lastweekdfcreated))\n",
    "print(\"Resolved: \", len(lastweekdfresolved))"
   ]
  },
  {
   "cell_type": "markdown",
   "id": "3fe2c217",
   "metadata": {},
   "source": [
    "### Group Data"
   ]
  },
  {
   "cell_type": "code",
   "execution_count": 38,
   "id": "f910987d",
   "metadata": {},
   "outputs": [],
   "source": [
    "# Group by different fields\n",
    "grp_date_platform_wk = lastweekdfcreated.groupby(\n",
    "        ['CreateDate','Platform'],\n",
    "        dropna=False\n",
    "    )['Issue Key'].count().rename('Count').reset_index(name='Count').fillna(\"NA\")\n",
    "\n",
    "grp_date_swymplan_wk = lastweekdfcreated.groupby(\n",
    "        ['CreateDate','Swym Plan'],\n",
    "        dropna=False\n",
    "    )['Issue Key'].count().rename('Count').reset_index(name='Count').fillna(\"NA\")\n",
    "\n",
    "grp_date_platformplan_wk = lastweekdfcreated.groupby(\n",
    "        ['CreateDate','Platform Plan'],\n",
    "        dropna=False\n",
    "    )['Issue Key'].count().rename('Count').reset_index(name='Count').fillna(\"NA\")\n",
    "\n",
    "grp_date_team_date = lastweekdf.groupby(\n",
    "        ['CreateDate','TeamName'],\n",
    "        dropna=False\n",
    "    )['Issue Key'].count().rename('Count').reset_index(name='Count').fillna(\"NA\")\n",
    "\n",
    "# Root Cause Categories\n",
    "grp_date_rca_wk = lastweekdfresolved.groupby(\n",
    "        ['ResolvedDate','Root Cause'],\n",
    "        dropna=False\n",
    "    )['Issue Key'].count().rename('Count').reset_index(name='Count').fillna(\"NA\")\n",
    "\n"
   ]
  },
  {
   "cell_type": "markdown",
   "id": "e3af8990",
   "metadata": {},
   "source": [
    "### Created by Swym Plan"
   ]
  },
  {
   "cell_type": "code",
   "execution_count": 40,
   "id": "1fe60239",
   "metadata": {},
   "outputs": [
    {
     "data": {
      "text/html": [
       "<div>\n",
       "<style scoped>\n",
       "    .dataframe tbody tr th:only-of-type {\n",
       "        vertical-align: middle;\n",
       "    }\n",
       "\n",
       "    .dataframe tbody tr th {\n",
       "        vertical-align: top;\n",
       "    }\n",
       "\n",
       "    .dataframe thead th {\n",
       "        text-align: right;\n",
       "    }\n",
       "</style>\n",
       "<table border=\"1\" class=\"dataframe\">\n",
       "  <thead>\n",
       "    <tr style=\"text-align: right;\">\n",
       "      <th></th>\n",
       "      <th>Count</th>\n",
       "    </tr>\n",
       "    <tr>\n",
       "      <th>Swym Plan</th>\n",
       "      <th></th>\n",
       "    </tr>\n",
       "  </thead>\n",
       "  <tbody>\n",
       "    <tr>\n",
       "      <th>Enterprise</th>\n",
       "      <td>5</td>\n",
       "    </tr>\n",
       "    <tr>\n",
       "      <th>Free</th>\n",
       "      <td>1</td>\n",
       "    </tr>\n",
       "    <tr>\n",
       "      <th>Premium</th>\n",
       "      <td>3</td>\n",
       "    </tr>\n",
       "    <tr>\n",
       "      <th>Pro</th>\n",
       "      <td>3</td>\n",
       "    </tr>\n",
       "    <tr>\n",
       "      <th>Starter</th>\n",
       "      <td>2</td>\n",
       "    </tr>\n",
       "  </tbody>\n",
       "</table>\n",
       "</div>"
      ],
      "text/plain": [
       "            Count\n",
       "Swym Plan        \n",
       "Enterprise      5\n",
       "Free            1\n",
       "Premium         3\n",
       "Pro             3\n",
       "Starter         2"
      ]
     },
     "execution_count": 40,
     "metadata": {},
     "output_type": "execute_result"
    }
   ],
   "source": [
    "grp_date_swymplan_wk.groupby(['Swym Plan']).sum()"
   ]
  },
  {
   "cell_type": "markdown",
   "id": "8f04f94f",
   "metadata": {},
   "source": [
    "### Created by Team Name"
   ]
  },
  {
   "cell_type": "code",
   "execution_count": 42,
   "id": "722540b8",
   "metadata": {},
   "outputs": [
    {
     "data": {
      "text/html": [
       "<div>\n",
       "<style scoped>\n",
       "    .dataframe tbody tr th:only-of-type {\n",
       "        vertical-align: middle;\n",
       "    }\n",
       "\n",
       "    .dataframe tbody tr th {\n",
       "        vertical-align: top;\n",
       "    }\n",
       "\n",
       "    .dataframe thead th {\n",
       "        text-align: right;\n",
       "    }\n",
       "</style>\n",
       "<table border=\"1\" class=\"dataframe\">\n",
       "  <thead>\n",
       "    <tr style=\"text-align: right;\">\n",
       "      <th></th>\n",
       "      <th>Count</th>\n",
       "    </tr>\n",
       "    <tr>\n",
       "      <th>TeamName</th>\n",
       "      <th></th>\n",
       "    </tr>\n",
       "  </thead>\n",
       "  <tbody>\n",
       "    <tr>\n",
       "      <th>Api</th>\n",
       "      <td>1</td>\n",
       "    </tr>\n",
       "    <tr>\n",
       "      <th>Apps</th>\n",
       "      <td>4</td>\n",
       "    </tr>\n",
       "    <tr>\n",
       "      <th>BI</th>\n",
       "      <td>1</td>\n",
       "    </tr>\n",
       "    <tr>\n",
       "      <th>MerchantExpereicneFE</th>\n",
       "      <td>1</td>\n",
       "    </tr>\n",
       "    <tr>\n",
       "      <th>Platform</th>\n",
       "      <td>4</td>\n",
       "    </tr>\n",
       "    <tr>\n",
       "      <th>Storefront</th>\n",
       "      <td>2</td>\n",
       "    </tr>\n",
       "    <tr>\n",
       "      <th>Unassigned</th>\n",
       "      <td>1</td>\n",
       "    </tr>\n",
       "  </tbody>\n",
       "</table>\n",
       "</div>"
      ],
      "text/plain": [
       "                      Count\n",
       "TeamName                   \n",
       "Api                       1\n",
       "Apps                      4\n",
       "BI                        1\n",
       "MerchantExpereicneFE      1\n",
       "Platform                  4\n",
       "Storefront                2\n",
       "Unassigned                1"
      ]
     },
     "execution_count": 42,
     "metadata": {},
     "output_type": "execute_result"
    }
   ],
   "source": [
    "grp_date_team_date.groupby(['TeamName']).sum()"
   ]
  },
  {
   "cell_type": "markdown",
   "id": "1b76099e",
   "metadata": {},
   "source": [
    "### Created by Platform"
   ]
  },
  {
   "cell_type": "code",
   "execution_count": 44,
   "id": "19991bff",
   "metadata": {},
   "outputs": [
    {
     "data": {
      "text/html": [
       "<div>\n",
       "<style scoped>\n",
       "    .dataframe tbody tr th:only-of-type {\n",
       "        vertical-align: middle;\n",
       "    }\n",
       "\n",
       "    .dataframe tbody tr th {\n",
       "        vertical-align: top;\n",
       "    }\n",
       "\n",
       "    .dataframe thead th {\n",
       "        text-align: right;\n",
       "    }\n",
       "</style>\n",
       "<table border=\"1\" class=\"dataframe\">\n",
       "  <thead>\n",
       "    <tr style=\"text-align: right;\">\n",
       "      <th></th>\n",
       "      <th>Count</th>\n",
       "    </tr>\n",
       "    <tr>\n",
       "      <th>Platform Plan</th>\n",
       "      <th></th>\n",
       "    </tr>\n",
       "  </thead>\n",
       "  <tbody>\n",
       "    <tr>\n",
       "      <th>Bigcommerce - Enterprise Plan Store</th>\n",
       "      <td>1</td>\n",
       "    </tr>\n",
       "    <tr>\n",
       "      <th>Shopify - Affiliate</th>\n",
       "      <td>2</td>\n",
       "    </tr>\n",
       "    <tr>\n",
       "      <th>Shopify Basic</th>\n",
       "      <td>1</td>\n",
       "    </tr>\n",
       "    <tr>\n",
       "      <th>Shopify Plus</th>\n",
       "      <td>8</td>\n",
       "    </tr>\n",
       "    <tr>\n",
       "      <th>Shopify Professional</th>\n",
       "      <td>2</td>\n",
       "    </tr>\n",
       "  </tbody>\n",
       "</table>\n",
       "</div>"
      ],
      "text/plain": [
       "                                      Count\n",
       "Platform Plan                              \n",
       "Bigcommerce - Enterprise Plan Store       1\n",
       "Shopify - Affiliate                       2\n",
       "Shopify Basic                             1\n",
       "Shopify Plus                              8\n",
       "Shopify Professional                      2"
      ]
     },
     "execution_count": 44,
     "metadata": {},
     "output_type": "execute_result"
    }
   ],
   "source": [
    "grp_date_platformplan_wk.groupby(['Platform Plan']).sum()"
   ]
  },
  {
   "cell_type": "markdown",
   "id": "15054a11",
   "metadata": {},
   "source": [
    "### Created by Platform"
   ]
  },
  {
   "cell_type": "code",
   "execution_count": 46,
   "id": "7da29111",
   "metadata": {},
   "outputs": [
    {
     "data": {
      "text/html": [
       "<div>\n",
       "<style scoped>\n",
       "    .dataframe tbody tr th:only-of-type {\n",
       "        vertical-align: middle;\n",
       "    }\n",
       "\n",
       "    .dataframe tbody tr th {\n",
       "        vertical-align: top;\n",
       "    }\n",
       "\n",
       "    .dataframe thead th {\n",
       "        text-align: right;\n",
       "    }\n",
       "</style>\n",
       "<table border=\"1\" class=\"dataframe\">\n",
       "  <thead>\n",
       "    <tr style=\"text-align: right;\">\n",
       "      <th></th>\n",
       "      <th>Count</th>\n",
       "    </tr>\n",
       "    <tr>\n",
       "      <th>Platform</th>\n",
       "      <th></th>\n",
       "    </tr>\n",
       "  </thead>\n",
       "  <tbody>\n",
       "    <tr>\n",
       "      <th>BigCommerce</th>\n",
       "      <td>1</td>\n",
       "    </tr>\n",
       "    <tr>\n",
       "      <th>Shopify</th>\n",
       "      <td>13</td>\n",
       "    </tr>\n",
       "  </tbody>\n",
       "</table>\n",
       "</div>"
      ],
      "text/plain": [
       "             Count\n",
       "Platform          \n",
       "BigCommerce      1\n",
       "Shopify         13"
      ]
     },
     "execution_count": 46,
     "metadata": {},
     "output_type": "execute_result"
    }
   ],
   "source": [
    "grp_date_platform_wk.groupby(['Platform']).sum()"
   ]
  },
  {
   "cell_type": "markdown",
   "id": "d5cf52e8",
   "metadata": {},
   "source": [
    "### Root Causes"
   ]
  },
  {
   "cell_type": "code",
   "execution_count": 48,
   "id": "0ebe5996",
   "metadata": {},
   "outputs": [
    {
     "data": {
      "text/html": [
       "<div>\n",
       "<style scoped>\n",
       "    .dataframe tbody tr th:only-of-type {\n",
       "        vertical-align: middle;\n",
       "    }\n",
       "\n",
       "    .dataframe tbody tr th {\n",
       "        vertical-align: top;\n",
       "    }\n",
       "\n",
       "    .dataframe thead th {\n",
       "        text-align: right;\n",
       "    }\n",
       "</style>\n",
       "<table border=\"1\" class=\"dataframe\">\n",
       "  <thead>\n",
       "    <tr style=\"text-align: right;\">\n",
       "      <th></th>\n",
       "      <th>Count</th>\n",
       "    </tr>\n",
       "    <tr>\n",
       "      <th>Root Cause</th>\n",
       "      <th></th>\n",
       "    </tr>\n",
       "  </thead>\n",
       "  <tbody>\n",
       "    <tr>\n",
       "      <th>Code Quality</th>\n",
       "      <td>4</td>\n",
       "    </tr>\n",
       "    <tr>\n",
       "      <th>Design Miss</th>\n",
       "      <td>1</td>\n",
       "    </tr>\n",
       "    <tr>\n",
       "      <th>Documentation</th>\n",
       "      <td>7</td>\n",
       "    </tr>\n",
       "    <tr>\n",
       "      <th>Implementation Error</th>\n",
       "      <td>3</td>\n",
       "    </tr>\n",
       "    <tr>\n",
       "      <th>Known Issue</th>\n",
       "      <td>3</td>\n",
       "    </tr>\n",
       "    <tr>\n",
       "      <th>Requirement Miss</th>\n",
       "      <td>1</td>\n",
       "    </tr>\n",
       "    <tr>\n",
       "      <th>Testing Miss</th>\n",
       "      <td>2</td>\n",
       "    </tr>\n",
       "  </tbody>\n",
       "</table>\n",
       "</div>"
      ],
      "text/plain": [
       "                      Count\n",
       "Root Cause                 \n",
       "Code Quality              4\n",
       "Design Miss               1\n",
       "Documentation             7\n",
       "Implementation Error      3\n",
       "Known Issue               3\n",
       "Requirement Miss          1\n",
       "Testing Miss              2"
      ]
     },
     "execution_count": 48,
     "metadata": {},
     "output_type": "execute_result"
    }
   ],
   "source": [
    "grp_date_rca_wk.groupby(['Root Cause']).sum()"
   ]
  },
  {
   "cell_type": "markdown",
   "id": "9780bb87",
   "metadata": {},
   "source": [
    "### Root Cause JIRAs"
   ]
  },
  {
   "cell_type": "code",
   "execution_count": 52,
   "id": "4f390f2b",
   "metadata": {},
   "outputs": [
    {
     "name": "stdout",
     "output_type": "stream",
     "text": [
      "JIRA KEY\t COUNT          \n",
      "STP-186 \t 1              \n",
      "STP-364 \t 1              \n",
      "STP-343 \t 1              \n",
      "STP-124 \t 1              \n",
      "STP-168 \t 1              \n"
     ]
    }
   ],
   "source": [
    "from jira import JIRA, JIRAError\n",
    "from collections import Counter, defaultdict\n",
    "from datetime import datetime\n",
    "from time import sleep\n",
    "\n",
    "import numpy as np\n",
    "import pandas as pd\n",
    "import networkx as nx\n",
    "\n",
    "url = \"https://swymcorp.atlassian.net\"\n",
    "email = \"ram.vellanki@swymcorp.com\"\n",
    "authtoken = \"ENTER JIRA API TOKEN HERE\"\n",
    "\n",
    "jira = JIRA(options={'server': url}, basic_auth=(email, authtoken))\n",
    "\n",
    "jql = f'project=LE AND \"Category[Dropdown]\" not in (\"v3 Migration\", \"Import\") and resolutiondate >= {weekstartdt} and resolutiondate < {weekenddt} and created >= startOfYear()'\n",
    "\n",
    "jira_search = jira.search_issues(jql,fields=\"issuetype, created, resolutiondate, key, customfield_10079, summary, issuelinks\")\n",
    "\n",
    "rcajira = {}\n",
    "for issue in jira_search:\n",
    "    ilinks = issue.fields.issuelinks\n",
    "    if len(ilinks) > 0:\n",
    "        for rkey in ilinks:\n",
    "            if rkey.type.name == 'Rootcause':\n",
    "                if hasattr(rkey, 'outwardIssue'):\n",
    "                    rkeval = rkey.outwardIssue.key\n",
    "                elif hasattr(rkey, 'inwardIssue'):\n",
    "                    rkeval = rkey.inwardIssue.key\n",
    "\n",
    "                if rkeval in rcajira:\n",
    "                    rcajira[rkeval] += 1\n",
    "                else:\n",
    "                    rcajira[rkeval] = 1\n",
    "                    \n",
    "print (\"{:<8}\\t {:<15}\".format('JIRA KEY','COUNT'))\n",
    "for k, v in rcajira.items():\n",
    "    print (\"{:<8}\\t {:<15}\".format(k, v))\n",
    "    \n",
    "    \n",
    "# Issue is that the key is not found in dictionary causing the increment to fail"
   ]
  }
 ],
 "metadata": {
  "kernelspec": {
   "display_name": "Python 3 (ipykernel)",
   "language": "python",
   "name": "python3"
  },
  "language_info": {
   "codemirror_mode": {
    "name": "ipython",
    "version": 3
   },
   "file_extension": ".py",
   "mimetype": "text/x-python",
   "name": "python",
   "nbconvert_exporter": "python",
   "pygments_lexer": "ipython3",
   "version": "3.9.9"
  }
 },
 "nbformat": 4,
 "nbformat_minor": 5
}
